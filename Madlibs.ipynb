{
 "cells": [
  {
   "cell_type": "code",
   "execution_count": 2,
   "id": "e62b6bd7-e1fa-44c6-ab64-6310b8e5d532",
   "metadata": {},
   "outputs": [
    {
     "name": "stdin",
     "output_type": "stream",
     "text": [
      "Enter a word for <object>:  Ball\n",
      "Enter a word for <terrain>:  Grass\n",
      "Enter a word for <emotion2>:  Happy\n",
      "Enter a word for <emotion>:  Joy\n",
      "Enter a word for <adjective1>:  Beautiful\n",
      "Enter a word for <adverb>:  sometimes\n",
      "Enter a word for <weather_condition>:  hot\n",
      "Enter a word for <animal>:  dog\n",
      "Enter a word for <place>:  football field\n",
      "Enter a word for <character>:  Saurav\n",
      "Enter a word for <place2>:  Cincinnati\n"
     ]
    },
    {
     "name": "stdout",
     "output_type": "stream",
     "text": [
      "In the Beautiful land of football field, a dog was feeling Joy. The dog had lost its Ball.\n",
      "\n",
      "Suddenly, a Saurav appeared. 'I will help you find your Ball,' they said.\n",
      "\n",
      "Together, they journeyed through Grass and faced the hot. Finally, they found the Ball in a Cincinnati. The dog was so Happy and thanked the Saurav. They lived sometimes ever after.\n"
     ]
    }
   ],
   "source": [
    "with open(\"story.txt\", \"r\") as f:\n",
    "    story = f.read()\n",
    "\n",
    "words = set()\n",
    "start_of_word = -1\n",
    "\n",
    "target_start = \"<\"\n",
    "target_end = \">\"\n",
    "\n",
    "for i, char in enumerate(story):\n",
    "    if char == target_start:\n",
    "        start_of_word = i\n",
    "\n",
    "    if char == target_end and start_of_word != -1:\n",
    "        word = story[start_of_word: i + 1]\n",
    "        words.add(word)\n",
    "        start_of_word = -1\n",
    "\n",
    "answers = {}\n",
    "\n",
    "for word in words:\n",
    "    answer = input(\"Enter a word for \" + word + \": \")\n",
    "    answers[word] = answer\n",
    "\n",
    "for word in words:\n",
    "    story = story.replace(word, answers[word])\n",
    "\n",
    "print(story)"
   ]
  },
  {
   "cell_type": "code",
   "execution_count": null,
   "id": "23f2e4d4-67e3-4b7d-abd2-bb79f2cfdc28",
   "metadata": {},
   "outputs": [],
   "source": []
  }
 ],
 "metadata": {
  "kernelspec": {
   "display_name": "Python 3 (ipykernel)",
   "language": "python",
   "name": "python3"
  },
  "language_info": {
   "codemirror_mode": {
    "name": "ipython",
    "version": 3
   },
   "file_extension": ".py",
   "mimetype": "text/x-python",
   "name": "python",
   "nbconvert_exporter": "python",
   "pygments_lexer": "ipython3",
   "version": "3.12.4"
  }
 },
 "nbformat": 4,
 "nbformat_minor": 5
}
