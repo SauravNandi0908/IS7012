{
 "cells": [
  {
   "cell_type": "code",
   "execution_count": null,
   "id": "7b3b143a-6ddb-4049-aae5-e3cbd046679a",
   "metadata": {},
   "outputs": [
    {
     "name": "stdin",
     "output_type": "stream",
     "text": [
      "Enter the number of players (2 - 4):  3\n"
     ]
    },
    {
     "name": "stdout",
     "output_type": "stream",
     "text": [
      "\n",
      "Player number 1 turn has just started!\n",
      "Your total score is: 0 \n",
      "\n"
     ]
    },
    {
     "name": "stdin",
     "output_type": "stream",
     "text": [
      "Would you like to roll (y)?  y\n"
     ]
    },
    {
     "name": "stdout",
     "output_type": "stream",
     "text": [
      "You rolled a: 2\n",
      "Your score is: 2\n"
     ]
    },
    {
     "name": "stdin",
     "output_type": "stream",
     "text": [
      "Would you like to roll (y)?  y\n"
     ]
    },
    {
     "name": "stdout",
     "output_type": "stream",
     "text": [
      "You rolled a 1! Turn done!\n",
      "Your total score is: 0\n",
      "\n",
      "Player number 2 turn has just started!\n",
      "Your total score is: 0 \n",
      "\n"
     ]
    },
    {
     "name": "stdin",
     "output_type": "stream",
     "text": [
      "Would you like to roll (y)?  y\n"
     ]
    },
    {
     "name": "stdout",
     "output_type": "stream",
     "text": [
      "You rolled a: 3\n",
      "Your score is: 3\n"
     ]
    },
    {
     "name": "stdin",
     "output_type": "stream",
     "text": [
      "Would you like to roll (y)?  y\n"
     ]
    },
    {
     "name": "stdout",
     "output_type": "stream",
     "text": [
      "You rolled a: 3\n",
      "Your score is: 6\n"
     ]
    },
    {
     "name": "stdin",
     "output_type": "stream",
     "text": [
      "Would you like to roll (y)?  y\n"
     ]
    },
    {
     "name": "stdout",
     "output_type": "stream",
     "text": [
      "You rolled a: 3\n",
      "Your score is: 9\n"
     ]
    },
    {
     "name": "stdin",
     "output_type": "stream",
     "text": [
      "Would you like to roll (y)?  n\n"
     ]
    },
    {
     "name": "stdout",
     "output_type": "stream",
     "text": [
      "Your total score is: 9\n",
      "\n",
      "Player number 3 turn has just started!\n",
      "Your total score is: 0 \n",
      "\n"
     ]
    },
    {
     "name": "stdin",
     "output_type": "stream",
     "text": [
      "Would you like to roll (y)?  n\n"
     ]
    },
    {
     "name": "stdout",
     "output_type": "stream",
     "text": [
      "Your total score is: 0\n",
      "\n",
      "Player number 1 turn has just started!\n",
      "Your total score is: 0 \n",
      "\n"
     ]
    }
   ],
   "source": [
    "import random\n",
    "\n",
    "\n",
    "def roll():\n",
    "    min_value = 1\n",
    "    max_value = 6\n",
    "    roll = random.randint(min_value, max_value)\n",
    "\n",
    "    return roll\n",
    "\n",
    "\n",
    "while True:\n",
    "    players = input(\"Enter the number of players (2 - 4): \")\n",
    "    if players.isdigit():\n",
    "        players = int(players)\n",
    "        if 2 <= players <= 4:\n",
    "            break\n",
    "        else:\n",
    "            print(\"Must be between 2 - 4 players.\")\n",
    "    else:\n",
    "        print(\"Invalid, try again.\")\n",
    "\n",
    "max_score = 50\n",
    "player_scores = [0 for _ in range(players)]\n",
    "\n",
    "while max(player_scores) < max_score:\n",
    "    for player_idx in range(players):\n",
    "        print(\"\\nPlayer number\", player_idx + 1, \"turn has just started!\")\n",
    "        print(\"Your total score is:\", player_scores[player_idx], \"\\n\")\n",
    "        current_score = 0\n",
    "\n",
    "        while True:\n",
    "            should_roll = input(\"Would you like to roll (y)? \")\n",
    "            if should_roll.lower() != \"y\":\n",
    "                break\n",
    "\n",
    "            value = roll()\n",
    "            if value == 1:\n",
    "                print(\"You rolled a 1! Turn done!\")\n",
    "                current_score = 0\n",
    "                break\n",
    "            else:\n",
    "                current_score += value\n",
    "                print(\"You rolled a:\", value)\n",
    "\n",
    "            print(\"Your score is:\", current_score)\n",
    "\n",
    "        player_scores[player_idx] += current_score\n",
    "        print(\"Your total score is:\", player_scores[player_idx])\n",
    "\n",
    "max_score = max(player_scores)\n",
    "winning_idx = player_scores.index(max_score)\n",
    "print(\"Player number\", winning_idx + 1,\n",
    "      \"is the winner with a score of:\", max_score)"
   ]
  },
  {
   "cell_type": "code",
   "execution_count": null,
   "id": "d5a97499-9ebf-43bd-9899-9a678c95644d",
   "metadata": {},
   "outputs": [],
   "source": []
  }
 ],
 "metadata": {
  "kernelspec": {
   "display_name": "Python 3 (ipykernel)",
   "language": "python",
   "name": "python3"
  },
  "language_info": {
   "codemirror_mode": {
    "name": "ipython",
    "version": 3
   },
   "file_extension": ".py",
   "mimetype": "text/x-python",
   "name": "python",
   "nbconvert_exporter": "python",
   "pygments_lexer": "ipython3",
   "version": "3.12.4"
  }
 },
 "nbformat": 4,
 "nbformat_minor": 5
}
