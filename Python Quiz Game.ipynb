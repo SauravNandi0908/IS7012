{
 "cells": [
  {
   "cell_type": "code",
   "execution_count": 5,
   "id": "78538d68-ff88-4a95-a9a0-eca5ed99f48b",
   "metadata": {},
   "outputs": [
    {
     "name": "stdout",
     "output_type": "stream",
     "text": [
      "Welcome to my Computer Quiz!\n"
     ]
    },
    {
     "name": "stdin",
     "output_type": "stream",
     "text": [
      "Do you want to play?  yes\n"
     ]
    },
    {
     "name": "stdout",
     "output_type": "stream",
     "text": [
      "Okay! Let's Play :)\n"
     ]
    },
    {
     "name": "stdin",
     "output_type": "stream",
     "text": [
      "What does CPU stands for?  central processing unit\n"
     ]
    },
    {
     "name": "stdout",
     "output_type": "stream",
     "text": [
      "Correct!\n"
     ]
    },
    {
     "name": "stdin",
     "output_type": "stream",
     "text": [
      "What does GPU stand for?  graphics processinf unit\n"
     ]
    },
    {
     "name": "stdout",
     "output_type": "stream",
     "text": [
      "Its not correct!\n"
     ]
    },
    {
     "name": "stdin",
     "output_type": "stream",
     "text": [
      "What does RAM stands for?  random access memory\n"
     ]
    },
    {
     "name": "stdout",
     "output_type": "stream",
     "text": [
      "Correct!\n"
     ]
    },
    {
     "name": "stdin",
     "output_type": "stream",
     "text": [
      "What does PSU stands for?  power supply unit\n"
     ]
    },
    {
     "name": "stdout",
     "output_type": "stream",
     "text": [
      "Its not correct!\n",
      "You got 2questions correct!\n",
      "You got 50.0%. \n"
     ]
    }
   ],
   "source": [
    "print(\"Welcome to my Computer Quiz!\")\n",
    "\n",
    "playing = input(\"Do you want to play? \")\n",
    "\n",
    "\n",
    "if playing.upper() != \"YES\":\n",
    "    quit()\n",
    "\n",
    "print(\"Okay! Let's Play :)\")\n",
    "score = 0\n",
    "\n",
    "answer = input(\"What does CPU stands for? \")\n",
    "if answer.lower() == \"central processing unit\":\n",
    "    print('Correct!')\n",
    "    score+=1\n",
    "\n",
    "else:\n",
    "    print('Its not correct!')\n",
    "\n",
    "\n",
    "\n",
    "answer = input(\"What does GPU stand for? \")\n",
    "if answer.lower() == \"graphics processing unit\":\n",
    "    print('Correct!')\n",
    "    score+=1\n",
    "\n",
    "else:\n",
    "    print('Its not correct!')\n",
    "\n",
    "\n",
    "\n",
    "answer = input(\"What does RAM stands for? \")\n",
    "if answer.lower() == \"random access memory\":\n",
    "    print('Correct!')\n",
    "    score+=1\n",
    "\n",
    "else:\n",
    "    print('Its not correct!')\n",
    "\n",
    "\n",
    "\n",
    "\n",
    "answer = input(\"What does PSU stands for? \")\n",
    "if answer.lower() == \"Power Supply unit\":\n",
    "    print('Correct!')\n",
    "    score+=1\n",
    "\n",
    "else:\n",
    "    print('Its not correct!')\n",
    "\n",
    "\n",
    "\n",
    "print(\"You got \" + str(score) + \" questions correct!\")\n",
    "print(\"You got \" + str((score/4) * 100) + \"%. \")\n",
    "\n",
    "\n",
    "\n",
    "\n",
    "\n",
    "\n",
    "\n"
   ]
  },
  {
   "cell_type": "code",
   "execution_count": null,
   "id": "e11e4a9f-d167-42bc-a884-f21ece10b79b",
   "metadata": {},
   "outputs": [],
   "source": []
  }
 ],
 "metadata": {
  "kernelspec": {
   "display_name": "Python 3 (ipykernel)",
   "language": "python",
   "name": "python3"
  },
  "language_info": {
   "codemirror_mode": {
    "name": "ipython",
    "version": 3
   },
   "file_extension": ".py",
   "mimetype": "text/x-python",
   "name": "python",
   "nbconvert_exporter": "python",
   "pygments_lexer": "ipython3",
   "version": "3.12.4"
  }
 },
 "nbformat": 4,
 "nbformat_minor": 5
}
